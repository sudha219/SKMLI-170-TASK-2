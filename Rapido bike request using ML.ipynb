{
 "cells": [
  {
   "cell_type": "code",
   "execution_count": null,
   "id": "214e0c91",
   "metadata": {},
   "outputs": [],
   "source": [
    "import numpy as np \n",
    "import pandas as pd \n",
    "import matplotlib.pyplot as plt \n",
    "import seaborn as sb \n",
    "from sklearn.model_selection import train_test_split \n",
    "from sklearn.preprocessing import LabelEncoder, StandardScaler \n",
    "from sklearn import metrics \n",
    "from sklearn.svm import SVC \n",
    "from xgboost import XGBRegressor \n",
    "from sklearn.linear_model import LinearRegression, Lasso, Ridge \n",
    "from sklearn.ensemble import RandomForestRegressor \n",
    "  \n",
    "import warnings \n",
    "warnings.filterwarnings('ignore')"
   ]
  },
  {
   "cell_type": "code",
   "execution_count": null,
   "id": "7a6fc938",
   "metadata": {},
   "outputs": [],
   "source": [
    "df = pd.read_csv('ola.csv') \n",
    "df.head()\n",
    "df.shape\n",
    "df.info()\n",
    "df.describe().T\n"
   ]
  },
  {
   "cell_type": "code",
   "execution_count": null,
   "id": "998ed4f6",
   "metadata": {},
   "outputs": [],
   "source": [
    "parts = df[\"datetime\"].str.split(\" \", n=2, expand=True) \n",
    "df[\"date\"] = parts[0] \n",
    "df[\"time\"] = parts[1].str[:2].astype('int') \n",
    "df.head() \n"
   ]
  },
  {
   "cell_type": "code",
   "execution_count": null,
   "id": "04971e95",
   "metadata": {},
   "outputs": [],
   "source": [
    "parts = df[\"date\"].str.split(\"-\", n=3, expand=True) \n",
    "df[\"day\"] = parts[0].astype('int') \n",
    "df[\"month\"] = parts[1].astype('int') \n",
    "df[\"year\"] = parts[2].astype('int') \n",
    "df.head() \n"
   ]
  },
  {
   "cell_type": "code",
   "execution_count": null,
   "id": "5dc2fccd",
   "metadata": {},
   "outputs": [],
   "source": [
    "from datetime import datetime \n",
    "import calendar \n",
    "  \n",
    "  \n",
    "def weekend_or_weekday(year, month, day): \n",
    "  \n",
    "    d = datetime(year, month, day) \n",
    "    if d.weekday() > 4: \n",
    "        return 0\n",
    "    else: \n",
    "        return 1\n",
    "  \n",
    "  \n",
    "df['weekday'] = df.apply(lambda x: \n",
    "                         weekend_or_weekday(x['year'], \n",
    "                                            x['month'], \n",
    "                                            x['day']), \n",
    "                         axis=1) \n",
    "df.head() "
   ]
  },
  {
   "cell_type": "code",
   "execution_count": null,
   "id": "962704c5",
   "metadata": {},
   "outputs": [],
   "source": [
    "def am_or_pm(x): \n",
    "    if x > 11: \n",
    "        return 1\n",
    "    else: \n",
    "        return 0\n",
    "  \n",
    "  \n",
    "df['am_or_pm'] = df['time'].apply(am_or_pm) \n",
    "df.head()"
   ]
  },
  {
   "cell_type": "code",
   "execution_count": null,
   "id": "c61d9d67",
   "metadata": {},
   "outputs": [],
   "source": [
    "from datetime import date \n",
    "import holidays \n",
    "  \n",
    "  \n",
    "def is_holiday(x): \n",
    "  \n",
    "    india_holidays = holidays.country_holidays('IN') \n",
    "  \n",
    "    if india_holidays.get(x): \n",
    "        return 1\n",
    "    else: \n",
    "        return 0\n",
    "  \n",
    "  \n",
    "df['holidays'] = df['date'].apply(is_holiday) \n",
    "df.head() "
   ]
  },
  {
   "cell_type": "code",
   "execution_count": null,
   "id": "a514bf6a",
   "metadata": {},
   "outputs": [],
   "source": [
    "df.drop(['datetime', 'date'], \n",
    "        axis=1, \n",
    "        inplace=True) \n",
    "df.isnull().sum()\n"
   ]
  },
  {
   "cell_type": "code",
   "execution_count": null,
   "id": "175ded85",
   "metadata": {},
   "outputs": [],
   "source": [
    "features = ['day', 'time', 'month'] \n",
    "  \n",
    "plt.subplots(figsize=(15, 10)) \n",
    "for i, col in enumerate(features): \n",
    "    plt.subplot(2, 2, i + 1) \n",
    "    df.groupby(col).mean()['count'].plot() \n",
    "plt.show() "
   ]
  },
  {
   "cell_type": "code",
   "execution_count": null,
   "id": "08bbeee3",
   "metadata": {},
   "outputs": [],
   "source": [
    "features = ['season', 'weather', 'holidays',\\ \n",
    "            'am_or_pm', 'year', 'weekday'] \n",
    "  \n",
    "plt.subplots(figsize=(20, 10)) \n",
    "for i, col in enumerate(features): \n",
    "    plt.subplot(2, 3, i + 1) \n",
    "    df.groupby(col).mean()['count'].plot.bar() \n",
    "plt.show() "
   ]
  },
  {
   "cell_type": "code",
   "execution_count": null,
   "id": "367411b3",
   "metadata": {},
   "outputs": [],
   "source": [
    "features = ['temp', 'windspeed'] \n",
    "  \n",
    "plt.subplots(figsize=(15, 5)) \n",
    "for i, col in enumerate(features): \n",
    "  plt.subplot(1, 2, i + 1) \n",
    "  sb.distplot(df[col]) \n",
    "plt.show()"
   ]
  },
  {
   "cell_type": "code",
   "execution_count": null,
   "id": "0401f683",
   "metadata": {},
   "outputs": [],
   "source": [
    "features = ['temp', 'windspeed'] \n",
    "  \n",
    "plt.subplots(figsize=(15, 5)) \n",
    "for i, col in enumerate(features): \n",
    "  plt.subplot(1, 2, i + 1) \n",
    "  sb.boxplot(df[col]) \n",
    "plt.show()"
   ]
  },
  {
   "cell_type": "code",
   "execution_count": null,
   "id": "6b1f2085",
   "metadata": {},
   "outputs": [],
   "source": [
    "num_rows = df.shape[0] - df[df['windspeed']<32].shape[0] \n",
    "print(f'Number of rows that will be lost if we remove outliers is equal to {num_rows}.')\n"
   ]
  },
  {
   "cell_type": "code",
   "execution_count": null,
   "id": "e54cf878",
   "metadata": {},
   "outputs": [],
   "source": [
    "features = ['humidity', 'casual', 'registered', 'count'] \n",
    "  \n",
    "plt.subplots(figsize=(15, 10)) \n",
    "for i, col in enumerate(features): \n",
    "    plt.subplot(2, 2, i + 1) \n",
    "    sb.boxplot(df[col]) \n",
    "plt.show() "
   ]
  },
  {
   "cell_type": "code",
   "execution_count": null,
   "id": "f8bba745",
   "metadata": {},
   "outputs": [],
   "source": [
    "sb.heatmap(df.corr() > 0.8, \n",
    "           annot=True, \n",
    "           cbar=False) \n",
    "plt.show()"
   ]
  },
  {
   "cell_type": "code",
   "execution_count": null,
   "id": "f8597899",
   "metadata": {},
   "outputs": [],
   "source": [
    "df.drop(['registered', 'time'], axis=1, inplace=True) \n",
    "df = df[(df['windspeed'] < 32) & (df['humidity'] > 0)]\n"
   ]
  },
  {
   "cell_type": "code",
   "execution_count": null,
   "id": "eef06575",
   "metadata": {},
   "outputs": [],
   "source": [
    "features = df.drop(['count'], axis=1) \n",
    "target = df['count'].values \n",
    "  \n",
    "X_train, X_val, Y_train, Y_val = train_test_split(features, \n",
    "                                                  target, \n",
    "                                                  test_size = 0.1, \n",
    "                                                  random_state=22) \n",
    "X_train.shape, X_val.shape"
   ]
  },
  {
   "cell_type": "code",
   "execution_count": null,
   "id": "f846d05a",
   "metadata": {},
   "outputs": [],
   "source": [
    "scaler = StandardScaler() \n",
    "X_train = scaler.fit_transform(X_train) \n",
    "X_val = scaler.transform(X_val) \n",
    "from sklearn.metrics import mean_absolute_error as mae \n",
    "models = [LinearRegression(), XGBRegressor(), Lasso(), \n",
    "          RandomForestRegressor(), Ridge()] \n",
    "  \n",
    "for i in range(5): \n",
    "    models[i].fit(X_train, Y_train) \n",
    "  \n",
    "    print(f'{models[i]} : ') \n",
    "  \n",
    "    train_preds = models[i].predict(X_train) \n",
    "    print('Training Error : ', mae(Y_train, train_preds)) \n",
    "  \n",
    "    val_preds = models[i].predict(X_val) \n",
    "    print('Validation Error : ', mae(Y_val, val_preds)) \n",
    "    print() "
   ]
  },
  {
   "cell_type": "code",
   "execution_count": null,
   "id": "5455e666",
   "metadata": {},
   "outputs": [],
   "source": []
  },
  {
   "cell_type": "code",
   "execution_count": null,
   "id": "b1c30075",
   "metadata": {},
   "outputs": [],
   "source": []
  },
  {
   "cell_type": "code",
   "execution_count": null,
   "id": "5a2eec98",
   "metadata": {},
   "outputs": [],
   "source": []
  },
  {
   "cell_type": "code",
   "execution_count": null,
   "id": "0ae2d4c3",
   "metadata": {},
   "outputs": [],
   "source": []
  },
  {
   "cell_type": "code",
   "execution_count": null,
   "id": "429f1c48",
   "metadata": {},
   "outputs": [],
   "source": []
  },
  {
   "cell_type": "code",
   "execution_count": null,
   "id": "660f6c31",
   "metadata": {},
   "outputs": [],
   "source": [
    "import pandas as pd\n",
    "import numpy as np\n",
    "from sklearn.model_selection import train_test_split\n",
    "from sklearn.ensemble import RandomForestClassifier\n",
    "from sklearn.metrics import confusion_matrix, classification_report, precision_score\n",
    "import matplotlib.pyplot as plt\n",
    "import seaborn as sns\n",
    "\n",
    "# Load the dataset\n",
    "data = pd.read_csv('rapido_bike_requests.csv')\n",
    "\n",
    "# Data Cleaning and Preprocessing\n",
    "def preprocess_data(df):\n",
    "    # Handle missing values\n",
    "    df = df.dropna()  # Drop rows with NaN values\n",
    "    \n",
    "    # Convert 'requests' to categorical by binning\n",
    "    bins = [0, 50, 100, 150, 200, np.inf]\n",
    "    labels = ['Very Low', 'Low', 'Medium', 'High', 'Very High']\n",
    "    df['requests_binned'] = pd.cut(df['requests'], bins=bins, labels=labels)\n",
    "    \n",
    "    # Convert 'weather' to dummy variables\n",
    "    df = pd.get_dummies(df, columns=['weather'], drop_first=True)\n",
    "    \n",
    "    # Add 'month' column if 'date' is present and not already processed\n",
    "    if 'date' in df.columns:\n",
    "        df['month'] = pd.to_datetime(df['date']).dt.month\n",
    "        df = df.drop(columns=['date'])\n",
    "    \n",
    "    return df\n",
    "\n",
    "data = preprocess_data(data)\n",
    "\n",
    "# Define features and target\n",
    "X = data.drop(['requests', 'requests_binned'], axis=1)\n",
    "y = data['requests_binned']\n",
    "\n",
    "# Split the dataset into training and testing sets\n",
    "X_train, X_test, y_train, y_test = train_test_split(X, y, test_size=0.2, random_state=42)\n",
    "\n",
    "# Train the Random Forest Classifier model\n",
    "model = RandomForestClassifier(n_estimators=100, random_state=42)\n",
    "model.fit(X_train, y_train)\n",
    "\n",
    "# Make predictions on the test set\n",
    "y_pred = model.predict(X_test)\n",
    "\n",
    "# Evaluate the model\n",
    "cm = confusion_matrix(y_test, y_pred)\n",
    "report = classification_report(y_test, y_pred, target_names=labels)\n",
    "precision = precision_score(y_test, y_pred, average='macro')\n",
    "\n",
    "print(f'Confusion Matrix:\\n{cm}')\n",
    "print(f'Classification Report:\\n{report}')\n",
    "print(f'Precision Score: {precision}')\n",
    "\n",
    "# Plot confusion matrix\n",
    "plt.figure(figsize=(10, 7))\n",
    "sns.heatmap(cm, annot=True, fmt='d', cmap='Blues', xticklabels=labels, yticklabels=labels)\n",
    "plt.xlabel('Predicted')\n",
    "plt.ylabel('Actual')\n",
    "plt.title('Confusion Matrix')\n",
    "plt.show()\n",
    "\n",
    "# Monthly wise plot\n",
    "monthly_data = data.groupby('month')['requests'].sum().reset_index()\n",
    "\n",
    "plt.figure(figsize=(12, 6))\n",
    "plt.plot(monthly_data['month'], monthly_data['requests'], marker='o')\n",
    "plt.xlabel('Month')\n",
    "plt.ylabel('Total Requests')\n",
    "plt.title('Monthly Total Bike Requests')\n",
    "plt.grid(True)\n",
    "plt.xticks(monthly_data['month'])\n",
    "plt.show()\n",
    "\n",
    "# Function to forecast requests for a specific hour (classification approach)\n",
    "def forecast_requests(hour, day_of_week, weather, temperature, model, columns):\n",
    "    # Create a single-row dataframe with the input values\n",
    "    input_data = pd.DataFrame({\n",
    "        'hour': [hour],\n",
    "        'day_of_week': [day_of_week],\n",
    "        'temperature': [temperature],\n",
    "        **{f'weather_{weather_val}': [1 if weather_val == weather else 0] for weather_val in columns if 'weather_' in weather_val}\n",
    "    })\n",
    "    return model.predict(input_data)[0]\n",
    "\n",
    "# Example of forecasting\n",
    "hour = 15\n",
    "day_of_week = 3\n",
    "weather = 2\n",
    "temperature = 30\n",
    "columns = X.columns\n",
    "predicted_requests_bin = forecast_requests(hour, day_of_week, weather, temperature, model, columns)\n",
    "print(f'Predicted Requests Bin at {hour}:00 on day {day_of_week} with weather {weather} and temperature {temperature}°C: {predicted_requests_bin}')\n"
   ]
  }
 ],
 "metadata": {
  "kernelspec": {
   "display_name": "Python 3 (ipykernel)",
   "language": "python",
   "name": "python3"
  },
  "language_info": {
   "codemirror_mode": {
    "name": "ipython",
    "version": 3
   },
   "file_extension": ".py",
   "mimetype": "text/x-python",
   "name": "python",
   "nbconvert_exporter": "python",
   "pygments_lexer": "ipython3",
   "version": "3.9.12"
  }
 },
 "nbformat": 4,
 "nbformat_minor": 5
}
